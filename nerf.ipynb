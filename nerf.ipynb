{
 "cells": [
  {
   "cell_type": "code",
   "execution_count": 1,
   "metadata": {},
   "outputs": [],
   "source": [
    "import numpy as np\n",
    "import matplotlib.pyplot as plt\n",
    "import sys\n",
    "from tqdm import tqdm\n",
    "\n",
    "import torch\n",
    "from torch.utils.data import DataLoader\n",
    "\n",
    "from nerf_model import NerfModel\n",
    "from nerf_dataset import LegoDataset\n",
    "from nerf_utils import *"
   ]
  },
  {
   "cell_type": "code",
   "execution_count": 2,
   "metadata": {},
   "outputs": [
    {
     "data": {
      "text/plain": [
       "'NVIDIA GeForce RTX 3080'"
      ]
     },
     "execution_count": 2,
     "metadata": {},
     "output_type": "execute_result"
    }
   ],
   "source": [
    "device = torch.device(\"cuda\")\n",
    "torch.cuda.get_device_name(0)"
   ]
  },
  {
   "cell_type": "code",
   "execution_count": 3,
   "metadata": {},
   "outputs": [],
   "source": [
    "NUM_OF_EPOCHS = 10\n",
    "\n",
    "SIZE_OF_CHUNK = 64\n",
    "NUM_OF_CHUNKS = 64 // SIZE_OF_CHUNK\n",
    "# assert NUM_OF_CHUNKS * SIZE_OF_CHUNK == 800\n",
    "\n",
    "LEARNING_RATE = 5e-4\n",
    "BATCH_SIZE = 1"
   ]
  },
  {
   "cell_type": "code",
   "execution_count": 4,
   "metadata": {},
   "outputs": [],
   "source": [
    "dataset = LegoDataset()\n",
    "\n",
    "dataloader = DataLoader(dataset, batch_size=1, shuffle=True, num_workers=8)\n",
    "model = NerfModel().to(device)"
   ]
  },
  {
   "cell_type": "code",
   "execution_count": 5,
   "metadata": {},
   "outputs": [],
   "source": [
    "optimizer = torch.optim.Adam(model.parameters(), lr=LEARNING_RATE)\n",
    "scheduler = torch.optim.lr_scheduler.ExponentialLR(optimizer, gamma=0.9999769744)\n",
    "loss = torch.nn.MSELoss()"
   ]
  },
  {
   "cell_type": "code",
   "execution_count": 6,
   "metadata": {},
   "outputs": [
    {
     "name": "stdout",
     "output_type": "stream",
     "text": [
      "EPOCH:  0\n"
     ]
    },
    {
     "name": "stderr",
     "output_type": "stream",
     "text": [
      "100%|██████████| 100/100 [00:22<00:00,  4.44it/s]\n"
     ]
    },
    {
     "name": "stdout",
     "output_type": "stream",
     "text": [
      "EPOCH:  1\n"
     ]
    },
    {
     "name": "stderr",
     "output_type": "stream",
     "text": [
      "100%|██████████| 100/100 [00:21<00:00,  4.56it/s]\n"
     ]
    },
    {
     "name": "stdout",
     "output_type": "stream",
     "text": [
      "EPOCH:  2\n"
     ]
    },
    {
     "name": "stderr",
     "output_type": "stream",
     "text": [
      "100%|██████████| 100/100 [00:21<00:00,  4.55it/s]\n"
     ]
    },
    {
     "name": "stdout",
     "output_type": "stream",
     "text": [
      "EPOCH:  3\n"
     ]
    },
    {
     "name": "stderr",
     "output_type": "stream",
     "text": [
      "100%|██████████| 100/100 [00:22<00:00,  4.54it/s]\n"
     ]
    },
    {
     "name": "stdout",
     "output_type": "stream",
     "text": [
      "EPOCH:  4\n"
     ]
    },
    {
     "name": "stderr",
     "output_type": "stream",
     "text": [
      "100%|██████████| 100/100 [00:22<00:00,  4.49it/s]\n"
     ]
    },
    {
     "name": "stdout",
     "output_type": "stream",
     "text": [
      "EPOCH:  5\n"
     ]
    },
    {
     "name": "stderr",
     "output_type": "stream",
     "text": [
      "100%|██████████| 100/100 [00:22<00:00,  4.51it/s]\n"
     ]
    },
    {
     "name": "stdout",
     "output_type": "stream",
     "text": [
      "EPOCH:  6\n"
     ]
    },
    {
     "name": "stderr",
     "output_type": "stream",
     "text": [
      "100%|██████████| 100/100 [00:22<00:00,  4.51it/s]\n"
     ]
    },
    {
     "name": "stdout",
     "output_type": "stream",
     "text": [
      "EPOCH:  7\n"
     ]
    },
    {
     "name": "stderr",
     "output_type": "stream",
     "text": [
      "100%|██████████| 100/100 [00:22<00:00,  4.51it/s]\n"
     ]
    },
    {
     "name": "stdout",
     "output_type": "stream",
     "text": [
      "EPOCH:  8\n"
     ]
    },
    {
     "name": "stderr",
     "output_type": "stream",
     "text": [
      "100%|██████████| 100/100 [00:22<00:00,  4.52it/s]\n"
     ]
    },
    {
     "name": "stdout",
     "output_type": "stream",
     "text": [
      "EPOCH:  9\n"
     ]
    },
    {
     "name": "stderr",
     "output_type": "stream",
     "text": [
      "100%|██████████| 100/100 [00:22<00:00,  4.51it/s]\n"
     ]
    }
   ],
   "source": [
    "for e in range(NUM_OF_EPOCHS):\n",
    "    print(\"EPOCH: \", e)\n",
    "    t, d = stratified_sampling()\n",
    "    for img, cam_2_world in tqdm(dataloader):\n",
    "        img = img.squeeze().to(device)\n",
    "        cam_2_world = cam_2_world.squeeze().to(device)\n",
    "        \n",
    "        rays_o, rays_d = get_rays(cam_2_world, width=64, height=64)\n",
    "        rays_o, rays_d = rays_o.to(device), rays_d.to(device)\n",
    "        rays_o = rays_o.unsqueeze(-1).expand(*rays_o.shape, t.shape[0])\n",
    "        rays_d = rays_d.unsqueeze(-1).expand(*rays_d.shape, t.shape[0])\n",
    "        ray_positions = rays_o + rays_d * t\n",
    "\n",
    "        for c in range(NUM_OF_CHUNKS):\n",
    "            color, sigma = model(\n",
    "                ray_positions[:, c * SIZE_OF_CHUNK:(c+1) * SIZE_OF_CHUNK, :], \n",
    "                rays_d[:, c * SIZE_OF_CHUNK:(c+1) * SIZE_OF_CHUNK, :], \n",
    "            )\n",
    "            color = color.permute(3, 0, 1, 2)\n",
    "            alpha = 1 - torch.exp(-sigma * d)\n",
    "            # We need torch.cumprod to be exclusive\n",
    "            x = torch.sum(\n",
    "                torch.cumprod(1 - alpha, dim=-1) / (1 - alpha + 1e-10) * \\\n",
    "                    alpha * \\\n",
    "                    color,\n",
    "                dim=-1\n",
    "            )\n",
    "            ground_truth = img[:, c * SIZE_OF_CHUNK:(c+1) * SIZE_OF_CHUNK, :] #.permute(2, 0, 1)\n",
    "            l = loss(x, ground_truth)\n",
    "            l.backward()\n",
    "        optimizer.step()\n",
    "        scheduler.step()            \n",
    "        optimizer.zero_grad()"
   ]
  },
  {
   "cell_type": "code",
   "execution_count": 10,
   "metadata": {},
   "outputs": [
    {
     "name": "stdout",
     "output_type": "stream",
     "text": [
      "cuda:0 cuda:0 cuda:0\n"
     ]
    },
    {
     "name": "stderr",
     "output_type": "stream",
     "text": [
      "C:\\Users\\Sourish\\AppData\\Local\\Temp\\ipykernel_31388\\531643461.py:31: DeprecationWarning: BILINEAR is deprecated and will be removed in Pillow 10 (2023-07-01). Use Resampling.BILINEAR instead.\n",
      "  img = img.resize((new_size, new_size), Image.BILINEAR)\n",
      "C:\\Users\\Sourish\\AppData\\Local\\Temp\\ipykernel_31388\\531643461.py:34: UserWarning: FigureCanvasAgg is non-interactive, and thus cannot be shown\n",
      "  fig.show()\n"
     ]
    },
    {
     "data": {
      "image/png": "[encoded data removed]",
      "text/plain": [
       "<Figure size 640x480 with 2 Axes>"
      ]
     },
     "metadata": {},
     "output_type": "display_data"
    }
   ],
   "source": [
    "def run_test():\n",
    "  with torch.no_grad():\n",
    "    new_size = 64\n",
    "    image, cam_2_world = dataset[0]\n",
    "    image = image.to(device)\n",
    "    cam_2_world = cam_2_world.to(device)\n",
    "\n",
    "    t, d = stratified_sampling()\n",
    "    rays_o, rays_d = get_rays(cam_2_world, width=new_size, height=new_size)\n",
    "\n",
    "    rays_o = rays_o.unsqueeze(-1).expand(*rays_o.shape, t.shape[0])\n",
    "    rays_d = rays_d.unsqueeze(-1).expand(*rays_d.shape, t.shape[0])\n",
    "    print(rays_o.device, rays_d.device, t.device)\n",
    "    ray_positions = rays_o + rays_d * t\n",
    "\n",
    "    color, sigma = model(\n",
    "        ray_positions, \n",
    "        rays_d, \n",
    "    )\n",
    "\n",
    "    color = color.permute(3, 0, 1, 2)\n",
    "    alpha = 1 - torch.exp(-sigma * d)\n",
    "\n",
    "    transmittance = torch.cumprod(1 - alpha, dim=-1) / (1 - alpha + 1e-10)\n",
    "    x = torch.sum(transmittance * alpha * color, dim=-1).permute(1, 2, 0)\n",
    "\n",
    "    fig, ax = plt.subplots(1, 2)\n",
    "    ax[0].imshow(x.cpu().numpy())\n",
    "    # resize img to 128x128 with PIL package\n",
    "    img = Image.open(f'lego/train/r_0.png')\n",
    "    img = img.resize((new_size, new_size), Image.BILINEAR)\n",
    "\n",
    "    ax[1].imshow(img)\n",
    "    fig.show()\n",
    "\n",
    "run_test()\n",
    "  \n"
   ]
  }
 ],
 "metadata": {
  "kernelspec": {
   "display_name": "nerf",
   "language": "python",
   "name": "python3"
  },
  "language_info": {
   "codemirror_mode": {
    "name": "ipython",
    "version": 3
   },
   "file_extension": ".py",
   "mimetype": "text/x-python",
   "name": "python",
   "nbconvert_exporter": "python",
   "pygments_lexer": "ipython3",
   "version": "3.10.13"
  }
 },
 "nbformat": 4,
 "nbformat_minor": 2
}
