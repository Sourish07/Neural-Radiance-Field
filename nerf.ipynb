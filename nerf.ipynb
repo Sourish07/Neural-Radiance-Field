{
 "cells": [
  {
   "cell_type": "code",
   "execution_count": 1,
   "metadata": {},
   "outputs": [],
   "source": [
    "import numpy as np\n",
    "import matplotlib.pyplot as plt\n",
    "import sys\n",
    "from tqdm import tqdm\n",
    "\n",
    "import torch\n",
    "from torch.utils.data import DataLoader\n",
    "\n",
    "from nerf_model import NerfModel\n",
    "from nerf_dataset import LegoDataset\n",
    "from nerf_utils import *"
   ]
  },
  {
   "cell_type": "code",
   "execution_count": 2,
   "metadata": {},
   "outputs": [
    {
     "data": {
      "text/plain": [
       "'NVIDIA GeForce RTX 3080'"
      ]
     },
     "execution_count": 2,
     "metadata": {},
     "output_type": "execute_result"
    }
   ],
   "source": [
    "device = torch.device(\"cuda\")\n",
    "torch.cuda.get_device_name(0)"
   ]
  },
  {
   "cell_type": "code",
   "execution_count": 3,
   "metadata": {},
   "outputs": [],
   "source": [
    "NUM_OF_EPOCHS = 0\n",
    "NEW_IMAGE_SIZE = 64\n",
    "\n",
    "SIZE_OF_CHUNK = 64\n",
    "NUM_OF_CHUNKS = 64 // SIZE_OF_CHUNK\n",
    "# assert NUM_OF_CHUNKS * SIZE_OF_CHUNK == 800\n",
    "\n",
    "LEARNING_RATE = 5e-4\n",
    "BATCH_SIZE = 1"
   ]
  },
  {
   "cell_type": "code",
   "execution_count": 4,
   "metadata": {},
   "outputs": [],
   "source": [
    "dataset = LegoDataset(new_image_size=NEW_IMAGE_SIZE)\n",
    "\n",
    "dataloader = DataLoader(dataset, batch_size=1, shuffle=True, num_workers=8)\n",
    "model = NerfModel().to(device)"
   ]
  },
  {
   "cell_type": "code",
   "execution_count": 5,
   "metadata": {},
   "outputs": [],
   "source": [
    "optimizer = torch.optim.Adam(model.parameters(), lr=LEARNING_RATE)\n",
    "scheduler = torch.optim.lr_scheduler.ExponentialLR(optimizer, gamma=0.9999769744)\n",
    "loss = torch.nn.MSELoss()"
   ]
  },
  {
   "cell_type": "code",
   "execution_count": 6,
   "metadata": {},
   "outputs": [],
   "source": [
    "for e in range(NUM_OF_EPOCHS):\n",
    "    print(\"EPOCH: \", e)\n",
    "    t, d = stratified_sampling()\n",
    "    for img, cam_2_world in tqdm(dataloader):\n",
    "        img = img.squeeze().to(device)\n",
    "        cam_2_world = cam_2_world.squeeze().to(device)\n",
    "        \n",
    "        rays_o, rays_d = get_rays(cam_2_world, width=64, height=64)\n",
    "        rays_o, rays_d = rays_o.to(device), rays_d.to(device)\n",
    "        rays_o = rays_o.unsqueeze(-1).expand(*rays_o.shape, t.shape[0])\n",
    "        rays_d = rays_d.unsqueeze(-1).expand(*rays_d.shape, t.shape[0])\n",
    "        ray_positions = rays_o + rays_d * t\n",
    "\n",
    "        for c in range(NUM_OF_CHUNKS):\n",
    "            color, sigma = model(\n",
    "                ray_positions[:, c * SIZE_OF_CHUNK:(c+1) * SIZE_OF_CHUNK, :], \n",
    "                rays_d[:, c * SIZE_OF_CHUNK:(c+1) * SIZE_OF_CHUNK, :], \n",
    "            )\n",
    "            color = color.permute(3, 0, 1, 2)\n",
    "            alpha = 1 - torch.exp(-sigma * d)\n",
    "            # We need torch.cumprod to be exclusive\n",
    "            x = torch.sum(\n",
    "                torch.cumprod(1 - alpha, dim=-1) / (1 - alpha + 1e-10) * \\\n",
    "                    alpha * \\\n",
    "                    color,\n",
    "                dim=-1\n",
    "            )\n",
    "            ground_truth = img[:, c * SIZE_OF_CHUNK:(c+1) * SIZE_OF_CHUNK, :] #.permute(2, 0, 1)\n",
    "            l = loss(x, ground_truth)\n",
    "            l.backward()\n",
    "        optimizer.step()\n",
    "        scheduler.step()            \n",
    "        optimizer.zero_grad()"
   ]
  },
  {
   "cell_type": "code",
   "execution_count": 7,
   "metadata": {},
   "outputs": [],
   "source": [
    "#torch.save(model.state_dict(), \"./hi.pt\")"
   ]
  },
  {
   "cell_type": "code",
   "execution_count": 12,
   "metadata": {},
   "outputs": [
    {
     "name": "stderr",
     "output_type": "stream",
     "text": [
      "C:\\Users\\Sourish\\AppData\\Local\\Temp\\ipykernel_41444\\2120216589.py:33: UserWarning: FigureCanvasAgg is non-interactive, and thus cannot be shown\n",
      "  fig.show()\n"
     ]
    },
    {
     "data": {
      "image/png": "[encoded data removed]",
      "text/plain": [
       "<Figure size 640x480 with 2 Axes>"
      ]
     },
     "metadata": {},
     "output_type": "display_data"
    }
   ],
   "source": [
    "def run_test(index=0, split='train'):\n",
    "  with torch.no_grad():\n",
    "    new_model = NerfModel().to(device)\n",
    "    #model.load_state_dict()\n",
    "    new_model.load_state_dict(torch.load(\"./hi.pt\", map_location=\"cuda\"))\n",
    "\n",
    "    dataset = LegoDataset(split=split, new_image_size=NEW_IMAGE_SIZE)\n",
    "    image, cam_2_world = dataset[index]\n",
    "    image = image.to(device)\n",
    "    cam_2_world = cam_2_world.to(device)\n",
    "\n",
    "    t, d = stratified_sampling()\n",
    "    rays_o, rays_d = get_rays(cam_2_world, width=NEW_IMAGE_SIZE, height=NEW_IMAGE_SIZE)\n",
    "\n",
    "    rays_o = rays_o.unsqueeze(-1).expand(*rays_o.shape, t.shape[0])\n",
    "    rays_d = rays_d.unsqueeze(-1).expand(*rays_d.shape, t.shape[0])\n",
    "    ray_positions = rays_o + rays_d * t\n",
    "\n",
    "    color, sigma = new_model(\n",
    "        ray_positions, \n",
    "        rays_d, \n",
    "    )\n",
    "\n",
    "    color = color.permute(3, 0, 1, 2)\n",
    "    alpha = 1 - torch.exp(-sigma * d)\n",
    "\n",
    "    transmittance = torch.cumprod(1 - alpha, dim=-1) / (1 - alpha + 1e-10)\n",
    "    x = torch.sum(transmittance * alpha * color, dim=-1).permute(1, 2, 0)\n",
    "\n",
    "    fig, ax = plt.subplots(1, 2)\n",
    "    ax[0].imshow(x.cpu().numpy())\n",
    "    ax[1].imshow(image.cpu().numpy().transpose(1, 2, 0))\n",
    "    fig.show()\n",
    "\n",
    "run_test(0, split='test')\n",
    "  \n"
   ]
  }
 ],
 "metadata": {
  "kernelspec": {
   "display_name": "nerf",
   "language": "python",
   "name": "python3"
  },
  "language_info": {
   "codemirror_mode": {
    "name": "ipython",
    "version": 3
   },
   "file_extension": ".py",
   "mimetype": "text/x-python",
   "name": "python",
   "nbconvert_exporter": "python",
   "pygments_lexer": "ipython3",
   "version": "3.10.13"
  }
 },
 "nbformat": 4,
 "nbformat_minor": 2
}
